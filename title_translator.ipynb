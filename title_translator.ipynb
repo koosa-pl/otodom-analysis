{
 "cells": [
  {
   "cell_type": "code",
   "execution_count": 1,
   "id": "b15fed58",
   "metadata": {},
   "outputs": [],
   "source": [
    "import pandas as pd\n",
    "from deep_translator import GoogleTranslator"
   ]
  },
  {
   "cell_type": "code",
   "execution_count": 3,
   "id": "973a22df",
   "metadata": {},
   "outputs": [],
   "source": [
    "df = pd.read_csv(\"Otodom Poland.csv\")"
   ]
  },
  {
   "cell_type": "code",
   "execution_count": 39,
   "id": "1bc58575",
   "metadata": {},
   "outputs": [],
   "source": [
    "list_translate = []\n",
    "for x in df[\"title\"]:\n",
    "    list_translate.append(x) # create list of titles in polish"
   ]
  },
  {
   "cell_type": "code",
   "execution_count": null,
   "id": "29184a15",
   "metadata": {},
   "outputs": [],
   "source": [
    "list_eng = []\n",
    "for x in list_translate:\n",
    "    obj = GoogleTranslator(source=\"pl\", target=\"en\").translate(text=x)\n",
    "    list_eng.append(obj)\n",
    "    print(list_eng) # translate the titles from polish to english"
   ]
  },
  {
   "cell_type": "code",
   "execution_count": 47,
   "id": "2f61a10d",
   "metadata": {},
   "outputs": [],
   "source": [
    "df[\"title_eng\"] = list_eng # add english titles to dataframe"
   ]
  },
  {
   "cell_type": "code",
   "execution_count": 56,
   "id": "944d696b",
   "metadata": {},
   "outputs": [],
   "source": [
    "# change order of columns, so the title in english is next to the title in polish\n",
    "df = df.reindex(columns=['timestamp', 'title', 'title_eng', 'price', 'market', 'surface', 'location',\n",
    "       'remote_support', 'lighting', 'advertiser_type', 'description',\n",
    "       'no_of_rooms', 'form_of_property', 'url', 'is_for_sale', 'posting_id'])"
   ]
  },
  {
   "cell_type": "code",
   "execution_count": 58,
   "id": "942be7cc",
   "metadata": {},
   "outputs": [],
   "source": [
    "df.to_csv(\"otodom_title_eng.csv\", index=False) # save the file"
   ]
  }
 ],
 "metadata": {
  "kernelspec": {
   "display_name": "mojwirtualny",
   "language": "python",
   "name": "mojwirtualny"
  },
  "language_info": {
   "codemirror_mode": {
    "name": "ipython",
    "version": 3
   },
   "file_extension": ".py",
   "mimetype": "text/x-python",
   "name": "python",
   "nbconvert_exporter": "python",
   "pygments_lexer": "ipython3",
   "version": "3.10.9"
  }
 },
 "nbformat": 4,
 "nbformat_minor": 5
}
